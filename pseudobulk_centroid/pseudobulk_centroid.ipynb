{
 "cells": [
  {
   "cell_type": "markdown",
   "source": [
    "This notebook is for experimenting and developing the pseudobulk/centroid approach. For details see [issue #244](https://github.com/theislab/pertpy/issues/244)."
   ],
   "metadata": {
    "collapsed": false
   }
  },
  {
   "cell_type": "code",
   "execution_count": 1,
   "outputs": [
    {
     "name": "stderr",
     "output_type": "stream",
     "text": [
      "Global seed set to 0\n",
      "/home/vschuma/miniconda3/envs/pertpy/lib/python3.9/site-packages/flax/struct.py:132: FutureWarning: jax.tree_util.register_keypaths is deprecated, and will be removed in a future release. Please use `register_pytree_with_keys()` instead.\n",
      "/home/vschuma/miniconda3/envs/pertpy/lib/python3.9/site-packages/flax/struct.py:132: FutureWarning: jax.tree_util.register_keypaths is deprecated, and will be removed in a future release. Please use `register_pytree_with_keys()` instead.\n",
      "/home/vschuma/miniconda3/envs/pertpy/lib/python3.9/site-packages/pytorch_lightning/utilities/warnings.py:53: LightningDeprecationWarning: pytorch_lightning.utilities.warnings.rank_zero_deprecation has been deprecated in v1.6 and will be removed in v1.8. Use the equivalent function from the pytorch_lightning.utilities.rank_zero module instead.\n",
      "/home/vschuma/miniconda3/envs/pertpy/lib/python3.9/site-packages/pytorch_lightning/utilities/warnings.py:58: LightningDeprecationWarning: The `pytorch_lightning.loggers.base.rank_zero_experiment` is deprecated in v1.7 and will be removed in v1.9. Please use `pytorch_lightning.loggers.logger.rank_zero_experiment` instead.\n",
      "No GPU/TPU found, falling back to CPU. (Set TF_CPP_MIN_LOG_LEVEL=0 and rerun for more info.)\n"
     ]
    },
    {
     "data": {
      "text/plain": "\u001B[1;33mryp2 is not installed. Install with \u001B[0m\u001B[1;32mpip install rpy2 \u001B[0m\u001B[1;33mto run tools with R support.\u001B[0m\n",
      "text/html": "<pre style=\"white-space:pre;overflow-x:auto;line-height:normal;font-family:Menlo,'DejaVu Sans Mono',consolas,'Courier New',monospace\"><span style=\"color: #808000; text-decoration-color: #808000; font-weight: bold\">ryp2 is not installed. Install with </span><span style=\"color: #008000; text-decoration-color: #008000; font-weight: bold\">pip install rpy2 </span><span style=\"color: #808000; text-decoration-color: #808000; font-weight: bold\">to run tools with R support.</span>\n</pre>\n"
     },
     "metadata": {},
     "output_type": "display_data"
    },
    {
     "data": {
      "text/plain": "\u001B[1;33mTo use sccoda or tasccoda please install ete3 with \u001B[0m\u001B[1;32mpip install ete3\u001B[0m\n",
      "text/html": "<pre style=\"white-space:pre;overflow-x:auto;line-height:normal;font-family:Menlo,'DejaVu Sans Mono',consolas,'Courier New',monospace\"><span style=\"color: #808000; text-decoration-color: #808000; font-weight: bold\">To use sccoda or tasccoda please install ete3 with </span><span style=\"color: #008000; text-decoration-color: #008000; font-weight: bold\">pip install ete3</span>\n</pre>\n"
     },
     "metadata": {},
     "output_type": "display_data"
    }
   ],
   "source": [
    "import pertpy as pt\n",
    "import decoupler as dc\n",
    "import scanpy as sc\n",
    "import pandas as pd"
   ],
   "metadata": {
    "collapsed": false
   }
  },
  {
   "cell_type": "code",
   "execution_count": 2,
   "outputs": [],
   "source": [
    "# Load data\n",
    "mdata = pt.dt.papalexi_2021()"
   ],
   "metadata": {
    "collapsed": false
   }
  },
  {
   "cell_type": "code",
   "execution_count": 3,
   "outputs": [
    {
     "data": {
      "text/plain": "MuData object with n_obs × n_vars = 20729 × 18776\n  4 modalities\n    rna:\t20729 x 18649\n      obs:\t'orig.ident', 'nCount_RNA', 'nFeature_RNA', 'nCount_HTO', 'nFeature_HTO', 'nCount_GDO', 'nCount_ADT', 'nFeature_ADT', 'percent.mito', 'MULTI_ID', 'HTO_classification', 'guide_ID', 'gene_target', 'NT', 'perturbation', 'replicate', 'S.Score', 'G2M.Score', 'Phase'\n      var:\t'name'\n    adt:\t20729 x 4\n      obs:\t'orig.ident', 'nCount_RNA', 'nFeature_RNA', 'nCount_HTO', 'nFeature_HTO', 'nCount_GDO', 'nCount_ADT', 'nFeature_ADT', 'percent.mito', 'MULTI_ID', 'HTO_classification', 'guide_ID', 'gene_target', 'NT', 'perturbation', 'replicate', 'S.Score', 'G2M.Score', 'Phase'\n      var:\t'name'\n    hto:\t20729 x 12\n      obs:\t'orig.ident', 'nCount_RNA', 'nFeature_RNA', 'nCount_HTO', 'nFeature_HTO', 'nCount_GDO', 'nCount_ADT', 'nFeature_ADT', 'percent.mito', 'MULTI_ID', 'HTO_classification', 'guide_ID', 'gene_target', 'NT', 'perturbation', 'replicate', 'S.Score', 'G2M.Score', 'Phase'\n      var:\t'name'\n    gdo:\t20729 x 111\n      obs:\t'orig.ident', 'nCount_RNA', 'nFeature_RNA', 'nCount_HTO', 'nFeature_HTO', 'nCount_GDO', 'nCount_ADT', 'nFeature_ADT', 'percent.mito', 'MULTI_ID', 'HTO_classification', 'guide_ID', 'gene_target', 'NT', 'perturbation', 'replicate', 'S.Score', 'G2M.Score', 'Phase'\n      var:\t'name'",
      "text/html": "<pre>MuData object with n_obs × n_vars = 20729 × 18776\n  4 modalities\n    rna:\t20729 x 18649\n      obs:\t&#x27;orig.ident&#x27;, &#x27;nCount_RNA&#x27;, &#x27;nFeature_RNA&#x27;, &#x27;nCount_HTO&#x27;, &#x27;nFeature_HTO&#x27;, &#x27;nCount_GDO&#x27;, &#x27;nCount_ADT&#x27;, &#x27;nFeature_ADT&#x27;, &#x27;percent.mito&#x27;, &#x27;MULTI_ID&#x27;, &#x27;HTO_classification&#x27;, &#x27;guide_ID&#x27;, &#x27;gene_target&#x27;, &#x27;NT&#x27;, &#x27;perturbation&#x27;, &#x27;replicate&#x27;, &#x27;S.Score&#x27;, &#x27;G2M.Score&#x27;, &#x27;Phase&#x27;\n      var:\t&#x27;name&#x27;\n    adt:\t20729 x 4\n      obs:\t&#x27;orig.ident&#x27;, &#x27;nCount_RNA&#x27;, &#x27;nFeature_RNA&#x27;, &#x27;nCount_HTO&#x27;, &#x27;nFeature_HTO&#x27;, &#x27;nCount_GDO&#x27;, &#x27;nCount_ADT&#x27;, &#x27;nFeature_ADT&#x27;, &#x27;percent.mito&#x27;, &#x27;MULTI_ID&#x27;, &#x27;HTO_classification&#x27;, &#x27;guide_ID&#x27;, &#x27;gene_target&#x27;, &#x27;NT&#x27;, &#x27;perturbation&#x27;, &#x27;replicate&#x27;, &#x27;S.Score&#x27;, &#x27;G2M.Score&#x27;, &#x27;Phase&#x27;\n      var:\t&#x27;name&#x27;\n    hto:\t20729 x 12\n      obs:\t&#x27;orig.ident&#x27;, &#x27;nCount_RNA&#x27;, &#x27;nFeature_RNA&#x27;, &#x27;nCount_HTO&#x27;, &#x27;nFeature_HTO&#x27;, &#x27;nCount_GDO&#x27;, &#x27;nCount_ADT&#x27;, &#x27;nFeature_ADT&#x27;, &#x27;percent.mito&#x27;, &#x27;MULTI_ID&#x27;, &#x27;HTO_classification&#x27;, &#x27;guide_ID&#x27;, &#x27;gene_target&#x27;, &#x27;NT&#x27;, &#x27;perturbation&#x27;, &#x27;replicate&#x27;, &#x27;S.Score&#x27;, &#x27;G2M.Score&#x27;, &#x27;Phase&#x27;\n      var:\t&#x27;name&#x27;\n    gdo:\t20729 x 111\n      obs:\t&#x27;orig.ident&#x27;, &#x27;nCount_RNA&#x27;, &#x27;nFeature_RNA&#x27;, &#x27;nCount_HTO&#x27;, &#x27;nFeature_HTO&#x27;, &#x27;nCount_GDO&#x27;, &#x27;nCount_ADT&#x27;, &#x27;nFeature_ADT&#x27;, &#x27;percent.mito&#x27;, &#x27;MULTI_ID&#x27;, &#x27;HTO_classification&#x27;, &#x27;guide_ID&#x27;, &#x27;gene_target&#x27;, &#x27;NT&#x27;, &#x27;perturbation&#x27;, &#x27;replicate&#x27;, &#x27;S.Score&#x27;, &#x27;G2M.Score&#x27;, &#x27;Phase&#x27;\n      var:\t&#x27;name&#x27;</pre>"
     },
     "execution_count": 3,
     "metadata": {},
     "output_type": "execute_result"
    }
   ],
   "source": [
    "mdata"
   ],
   "metadata": {
    "collapsed": false
   }
  },
  {
   "cell_type": "markdown",
   "source": [
    "## Explaination - modalities\n",
    "\n",
    "The modalities you mentioned are associated with the ECCITE-seq (Expanded CRISPR-compatible Cellular Indexing of Transcriptomes and Epitopes) technology. ECCITE-seq is a single-cell multi-omics technique that allows simultaneous profiling of gene expression (RNA), protein epitopes (ADT - Antibody-Derived Tags), cell surface proteins (HTO - Hashtag Oligonucleotides), and genetic perturbations (GDO - Guide-Derived Oligonucleotides).\n",
    "\n",
    "Here's a brief description of each modality:\n",
    "\n",
    "**RNA (RNA-Seq):** This modality captures and quantifies the gene expression levels in individual cells. It provides information about the transcriptome, allowing researchers to study gene expression patterns and identify different cell types or states based on their gene expression profiles.\n",
    "\n",
    "**ADT (Antibody-Derived Tags):** ADT is a protein-level modality that uses antibodies conjugated with unique DNA tags. Each antibody recognizes a specific protein epitope, allowing the measurement of protein abundance or presence in individual cells. ADT enables the investigation of protein expression and cellular phenotypes at the single-cell level.\n",
    "\n",
    "**HTO (Hashtag Oligonucleotides):** HTOs are short DNA sequences designed to label cells uniquely. They are used to capture the cellular origin of individual transcriptomes and allow multiplexing of samples. HTOs are typically used to profile cell surface proteins, enabling the identification and characterization of different cell populations or clusters.\n",
    "\n",
    "**GDO (Guide-Derived Oligonucleotides):** GDOs are oligonucleotides used in ECCITE-seq to introduce genetic perturbations into cells using CRISPR technology. By targeting specific genes, GDOs enable the investigation of gene function and regulatory networks, providing insights into how genetic changes affect cellular behavior."
   ],
   "metadata": {
    "collapsed": false
   }
  },
  {
   "cell_type": "code",
   "execution_count": 4,
   "outputs": [],
   "source": [
    "rna_only = mdata[\"rna\"]"
   ],
   "metadata": {
    "collapsed": false
   }
  },
  {
   "cell_type": "code",
   "execution_count": 8,
   "outputs": [
    {
     "data": {
      "text/plain": "                    orig.ident  nCount_RNA  nFeature_RNA  nCount_HTO   \nindex                                                                  \nl1_AAACCTGAGCCAGAAC      Lane1       17207          3942        99.0  \\\nl1_AAACCTGAGTGGACGT      Lane1        9506          2948        35.0   \nl1_AAACCTGCATGAGCGA      Lane1       15256          4258        66.0   \nl1_AAACCTGTCTTGTCAT      Lane1        5135          1780        22.0   \nl1_AAACGGGAGAACAACT      Lane1        9673          2671        99.0   \n...                        ...         ...           ...         ...   \nl8_TTTGTCAGTCACTTCC      Lane8       20863          4884       294.0   \nl8_TTTGTCAGTGACGGTA      Lane8       17553          3787       528.0   \nl8_TTTGTCAGTTCCACAA      Lane8       15106          4185       154.0   \nl8_TTTGTCATCACGCATA      Lane8       11209          3204       132.0   \nl8_TTTGTCATCTGTACGA      Lane8       23088          5073        95.0   \n\n                     nFeature_HTO  nCount_GDO  nCount_ADT  nFeature_ADT   \nindex                                                                     \nl1_AAACCTGAGCCAGAAC             4       576.0       801.0             4  \\\nl1_AAACCTGAGTGGACGT             5       190.0       545.0             4   \nl1_AAACCTGCATGAGCGA             4       212.0       344.0             4   \nl1_AAACCTGTCTTGTCAT             3       243.0       539.0             4   \nl1_AAACGGGAGAACAACT             5       198.0      1053.0             4   \n...                           ...         ...         ...           ...   \nl8_TTTGTCAGTCACTTCC             4       290.0       398.0             4   \nl8_TTTGTCAGTGACGGTA             3       870.0      3042.0             4   \nl8_TTTGTCAGTTCCACAA             6       267.0       212.0             4   \nl8_TTTGTCATCACGCATA             3       202.0       258.0             4   \nl8_TTTGTCATCTGTACGA             4       234.0       584.0             4   \n\n                     percent.mito MULTI_ID HTO_classification guide_ID   \nindex                                                                    \nl1_AAACCTGAGCCAGAAC      2.295577  rep1-tx            rep1-tx  STAT2g2  \\\nl1_AAACCTGAGTGGACGT      4.512939  rep1-tx            rep1-tx   CAV1g4   \nl1_AAACCTGCATGAGCGA      4.116413  rep1-tx            rep1-tx  STAT1g2   \nl1_AAACCTGTCTTGTCAT      5.491723  rep1-tx            rep1-tx   CD86g1   \nl1_AAACGGGAGAACAACT      3.359868  rep1-tx            rep1-tx   IRF7g2   \n...                           ...      ...                ...      ...   \nl8_TTTGTCAGTCACTTCC      5.469012  rep3-tx            rep3-tx  CMTM6g1   \nl8_TTTGTCAGTGACGGTA      2.159175  rep4-tx            rep2-tx     NTg4   \nl8_TTTGTCAGTTCCACAA      2.661194  rep3-tx            rep3-tx   ATF2g1   \nl8_TTTGTCATCACGCATA      7.369078  rep3-tx            rep3-tx   CAV1g2   \nl8_TTTGTCATCTGTACGA      2.191615  rep3-tx            rep3-tx  STAT3g1   \n\n                    gene_target       NT perturbation replicate   S.Score   \nindex                                                                       \nl1_AAACCTGAGCCAGAAC       STAT2  STAT2g2    Perturbed      rep1 -0.252716  \\\nl1_AAACCTGAGTGGACGT        CAV1   CAV1g4    Perturbed      rep1 -0.123802   \nl1_AAACCTGCATGAGCGA       STAT1  STAT1g2    Perturbed      rep1 -0.154633   \nl1_AAACCTGTCTTGTCAT        CD86   CD86g1    Perturbed      rep1 -0.061262   \nl1_AAACGGGAGAACAACT        IRF7   IRF7g2    Perturbed      rep1 -0.132188   \n...                         ...      ...          ...       ...       ...   \nl8_TTTGTCAGTCACTTCC       CMTM6  CMTM6g1    Perturbed      rep3 -0.323562   \nl8_TTTGTCAGTGACGGTA          NT       NT           NT      rep2 -0.153514   \nl8_TTTGTCAGTTCCACAA        ATF2   ATF2g1    Perturbed      rep3 -0.191933   \nl8_TTTGTCATCACGCATA        CAV1   CAV1g2    Perturbed      rep3 -0.134585   \nl8_TTTGTCATCTGTACGA       STAT3  STAT3g1    Perturbed      rep3 -0.461981   \n\n                     G2M.Score Phase  \nindex                                 \nl1_AAACCTGAGCCAGAAC  -0.771309    G1  \nl1_AAACCTGAGTGGACGT  -0.332603    G1  \nl1_AAACCTGCATGAGCGA  -0.694418    G1  \nl1_AAACCTGTCTTGTCAT  -0.037820    G1  \nl1_AAACGGGAGAACAACT  -0.353156    G1  \n...                        ...   ...  \nl8_TTTGTCAGTCACTTCC  -0.794679    G1  \nl8_TTTGTCAGTGACGGTA  -0.632655    G1  \nl8_TTTGTCAGTTCCACAA  -0.574283    G1  \nl8_TTTGTCATCACGCATA  -0.501513    G1  \nl8_TTTGTCATCTGTACGA  -1.071414    G1  \n\n[20729 rows x 19 columns]",
      "text/html": "<div>\n<style scoped>\n    .dataframe tbody tr th:only-of-type {\n        vertical-align: middle;\n    }\n\n    .dataframe tbody tr th {\n        vertical-align: top;\n    }\n\n    .dataframe thead th {\n        text-align: right;\n    }\n</style>\n<table border=\"1\" class=\"dataframe\">\n  <thead>\n    <tr style=\"text-align: right;\">\n      <th></th>\n      <th>orig.ident</th>\n      <th>nCount_RNA</th>\n      <th>nFeature_RNA</th>\n      <th>nCount_HTO</th>\n      <th>nFeature_HTO</th>\n      <th>nCount_GDO</th>\n      <th>nCount_ADT</th>\n      <th>nFeature_ADT</th>\n      <th>percent.mito</th>\n      <th>MULTI_ID</th>\n      <th>HTO_classification</th>\n      <th>guide_ID</th>\n      <th>gene_target</th>\n      <th>NT</th>\n      <th>perturbation</th>\n      <th>replicate</th>\n      <th>S.Score</th>\n      <th>G2M.Score</th>\n      <th>Phase</th>\n    </tr>\n    <tr>\n      <th>index</th>\n      <th></th>\n      <th></th>\n      <th></th>\n      <th></th>\n      <th></th>\n      <th></th>\n      <th></th>\n      <th></th>\n      <th></th>\n      <th></th>\n      <th></th>\n      <th></th>\n      <th></th>\n      <th></th>\n      <th></th>\n      <th></th>\n      <th></th>\n      <th></th>\n      <th></th>\n    </tr>\n  </thead>\n  <tbody>\n    <tr>\n      <th>l1_AAACCTGAGCCAGAAC</th>\n      <td>Lane1</td>\n      <td>17207</td>\n      <td>3942</td>\n      <td>99.0</td>\n      <td>4</td>\n      <td>576.0</td>\n      <td>801.0</td>\n      <td>4</td>\n      <td>2.295577</td>\n      <td>rep1-tx</td>\n      <td>rep1-tx</td>\n      <td>STAT2g2</td>\n      <td>STAT2</td>\n      <td>STAT2g2</td>\n      <td>Perturbed</td>\n      <td>rep1</td>\n      <td>-0.252716</td>\n      <td>-0.771309</td>\n      <td>G1</td>\n    </tr>\n    <tr>\n      <th>l1_AAACCTGAGTGGACGT</th>\n      <td>Lane1</td>\n      <td>9506</td>\n      <td>2948</td>\n      <td>35.0</td>\n      <td>5</td>\n      <td>190.0</td>\n      <td>545.0</td>\n      <td>4</td>\n      <td>4.512939</td>\n      <td>rep1-tx</td>\n      <td>rep1-tx</td>\n      <td>CAV1g4</td>\n      <td>CAV1</td>\n      <td>CAV1g4</td>\n      <td>Perturbed</td>\n      <td>rep1</td>\n      <td>-0.123802</td>\n      <td>-0.332603</td>\n      <td>G1</td>\n    </tr>\n    <tr>\n      <th>l1_AAACCTGCATGAGCGA</th>\n      <td>Lane1</td>\n      <td>15256</td>\n      <td>4258</td>\n      <td>66.0</td>\n      <td>4</td>\n      <td>212.0</td>\n      <td>344.0</td>\n      <td>4</td>\n      <td>4.116413</td>\n      <td>rep1-tx</td>\n      <td>rep1-tx</td>\n      <td>STAT1g2</td>\n      <td>STAT1</td>\n      <td>STAT1g2</td>\n      <td>Perturbed</td>\n      <td>rep1</td>\n      <td>-0.154633</td>\n      <td>-0.694418</td>\n      <td>G1</td>\n    </tr>\n    <tr>\n      <th>l1_AAACCTGTCTTGTCAT</th>\n      <td>Lane1</td>\n      <td>5135</td>\n      <td>1780</td>\n      <td>22.0</td>\n      <td>3</td>\n      <td>243.0</td>\n      <td>539.0</td>\n      <td>4</td>\n      <td>5.491723</td>\n      <td>rep1-tx</td>\n      <td>rep1-tx</td>\n      <td>CD86g1</td>\n      <td>CD86</td>\n      <td>CD86g1</td>\n      <td>Perturbed</td>\n      <td>rep1</td>\n      <td>-0.061262</td>\n      <td>-0.037820</td>\n      <td>G1</td>\n    </tr>\n    <tr>\n      <th>l1_AAACGGGAGAACAACT</th>\n      <td>Lane1</td>\n      <td>9673</td>\n      <td>2671</td>\n      <td>99.0</td>\n      <td>5</td>\n      <td>198.0</td>\n      <td>1053.0</td>\n      <td>4</td>\n      <td>3.359868</td>\n      <td>rep1-tx</td>\n      <td>rep1-tx</td>\n      <td>IRF7g2</td>\n      <td>IRF7</td>\n      <td>IRF7g2</td>\n      <td>Perturbed</td>\n      <td>rep1</td>\n      <td>-0.132188</td>\n      <td>-0.353156</td>\n      <td>G1</td>\n    </tr>\n    <tr>\n      <th>...</th>\n      <td>...</td>\n      <td>...</td>\n      <td>...</td>\n      <td>...</td>\n      <td>...</td>\n      <td>...</td>\n      <td>...</td>\n      <td>...</td>\n      <td>...</td>\n      <td>...</td>\n      <td>...</td>\n      <td>...</td>\n      <td>...</td>\n      <td>...</td>\n      <td>...</td>\n      <td>...</td>\n      <td>...</td>\n      <td>...</td>\n      <td>...</td>\n    </tr>\n    <tr>\n      <th>l8_TTTGTCAGTCACTTCC</th>\n      <td>Lane8</td>\n      <td>20863</td>\n      <td>4884</td>\n      <td>294.0</td>\n      <td>4</td>\n      <td>290.0</td>\n      <td>398.0</td>\n      <td>4</td>\n      <td>5.469012</td>\n      <td>rep3-tx</td>\n      <td>rep3-tx</td>\n      <td>CMTM6g1</td>\n      <td>CMTM6</td>\n      <td>CMTM6g1</td>\n      <td>Perturbed</td>\n      <td>rep3</td>\n      <td>-0.323562</td>\n      <td>-0.794679</td>\n      <td>G1</td>\n    </tr>\n    <tr>\n      <th>l8_TTTGTCAGTGACGGTA</th>\n      <td>Lane8</td>\n      <td>17553</td>\n      <td>3787</td>\n      <td>528.0</td>\n      <td>3</td>\n      <td>870.0</td>\n      <td>3042.0</td>\n      <td>4</td>\n      <td>2.159175</td>\n      <td>rep4-tx</td>\n      <td>rep2-tx</td>\n      <td>NTg4</td>\n      <td>NT</td>\n      <td>NT</td>\n      <td>NT</td>\n      <td>rep2</td>\n      <td>-0.153514</td>\n      <td>-0.632655</td>\n      <td>G1</td>\n    </tr>\n    <tr>\n      <th>l8_TTTGTCAGTTCCACAA</th>\n      <td>Lane8</td>\n      <td>15106</td>\n      <td>4185</td>\n      <td>154.0</td>\n      <td>6</td>\n      <td>267.0</td>\n      <td>212.0</td>\n      <td>4</td>\n      <td>2.661194</td>\n      <td>rep3-tx</td>\n      <td>rep3-tx</td>\n      <td>ATF2g1</td>\n      <td>ATF2</td>\n      <td>ATF2g1</td>\n      <td>Perturbed</td>\n      <td>rep3</td>\n      <td>-0.191933</td>\n      <td>-0.574283</td>\n      <td>G1</td>\n    </tr>\n    <tr>\n      <th>l8_TTTGTCATCACGCATA</th>\n      <td>Lane8</td>\n      <td>11209</td>\n      <td>3204</td>\n      <td>132.0</td>\n      <td>3</td>\n      <td>202.0</td>\n      <td>258.0</td>\n      <td>4</td>\n      <td>7.369078</td>\n      <td>rep3-tx</td>\n      <td>rep3-tx</td>\n      <td>CAV1g2</td>\n      <td>CAV1</td>\n      <td>CAV1g2</td>\n      <td>Perturbed</td>\n      <td>rep3</td>\n      <td>-0.134585</td>\n      <td>-0.501513</td>\n      <td>G1</td>\n    </tr>\n    <tr>\n      <th>l8_TTTGTCATCTGTACGA</th>\n      <td>Lane8</td>\n      <td>23088</td>\n      <td>5073</td>\n      <td>95.0</td>\n      <td>4</td>\n      <td>234.0</td>\n      <td>584.0</td>\n      <td>4</td>\n      <td>2.191615</td>\n      <td>rep3-tx</td>\n      <td>rep3-tx</td>\n      <td>STAT3g1</td>\n      <td>STAT3</td>\n      <td>STAT3g1</td>\n      <td>Perturbed</td>\n      <td>rep3</td>\n      <td>-0.461981</td>\n      <td>-1.071414</td>\n      <td>G1</td>\n    </tr>\n  </tbody>\n</table>\n<p>20729 rows × 19 columns</p>\n</div>"
     },
     "execution_count": 8,
     "metadata": {},
     "output_type": "execute_result"
    }
   ],
   "source": [
    "rna_only.obs"
   ],
   "metadata": {
    "collapsed": false
   }
  },
  {
   "cell_type": "code",
   "execution_count": 9,
   "outputs": [],
   "source": [
    "pseudobulk = dc.get_pseudobulk(rna_only,sample_col=\"replicate\",groups_col=None)"
   ],
   "metadata": {
    "collapsed": false
   }
  },
  {
   "cell_type": "code",
   "execution_count": 10,
   "outputs": [
    {
     "data": {
      "text/plain": "View of AnnData object with n_obs × n_vars = 3 × 6034\n    obs: 'MULTI_ID', 'HTO_classification', 'replicate'"
     },
     "execution_count": 10,
     "metadata": {},
     "output_type": "execute_result"
    }
   ],
   "source": [
    "pseudobulk"
   ],
   "metadata": {
    "collapsed": false
   }
  },
  {
   "cell_type": "code",
   "execution_count": 17,
   "outputs": [
    {
     "data": {
      "text/plain": "ArrayView([[ 4873.,  6286.,  8661., ..., 57074.,  2455.,  5901.],\n           [ 4910.,  4675.,  5369., ..., 37991.,  1660.,  6557.],\n           [ 5493.,  5061.,  5918., ..., 41939.,  1841.,  7796.]],\n          dtype=float32)"
     },
     "execution_count": 17,
     "metadata": {},
     "output_type": "execute_result"
    }
   ],
   "source": [
    "pseudobulk.X"
   ],
   "metadata": {
    "collapsed": false
   }
  },
  {
   "cell_type": "markdown",
   "source": [
    "Not sure what I have here. Shoudl check out the [decoupler pseudobulk tutorial](https://decoupler-py.readthedocs.io/en/latest/notebooks/pseudobulk.html)"
   ],
   "metadata": {
    "collapsed": false
   }
  },
  {
   "cell_type": "code",
   "execution_count": null,
   "outputs": [],
   "source": [],
   "metadata": {
    "collapsed": false
   }
  }
 ],
 "metadata": {
  "kernelspec": {
   "display_name": "Python 3",
   "language": "python",
   "name": "python3"
  },
  "language_info": {
   "codemirror_mode": {
    "name": "ipython",
    "version": 2
   },
   "file_extension": ".py",
   "mimetype": "text/x-python",
   "name": "python",
   "nbconvert_exporter": "python",
   "pygments_lexer": "ipython2",
   "version": "2.7.6"
  }
 },
 "nbformat": 4,
 "nbformat_minor": 0
}
